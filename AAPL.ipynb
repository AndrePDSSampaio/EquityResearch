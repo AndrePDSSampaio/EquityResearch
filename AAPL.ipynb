{
 "cells": [
  {
   "cell_type": "markdown",
   "metadata": {},
   "source": [
    "Relatório AAPL - Apple\n",
    "\n",
    "1. Introdução\n",
    "\n",
    "Os principais fatores que influenciam o preço desse ativo são: \n",
    "\n",
    "- Desempenho Interno da Empresa: Resultados trimestrais, vendas, crescimento de receita e lançamento de novos produtos inovadores.\n",
    "- Tributação: Taxas aplicadas a países como a China, que realizam a maior parte da produção dos produtos Apple podem levar a problemas na produção ou sua diminuição .\n",
    "Qualquer problema operacional, como acidentes, greves ou falhas logísticas, pode afetar a produção e, consequentemente, o preço da ação.\n",
    "- Fatores Macroeconômicos: Um dólar alto não necessariamente é benéfico para a Apple, uma vez que a maior parte de seus produtos é vendida globalmente, e o dólar alto pode ser ruim para países estrangeiros com moedas mais fracas.\n",
    "- Investimentos em novos segmentos: Qualquer movimento da Apple em áreas como realidade aumentada (Apple Vision Pro), inteligência artificial e carros autônomos (Projeto Titan) pode gerar expectativas no mercado.\n",
    "\n",
    "2. Análise\n",
    "\n",
    "Recentemente foi anunciada a ideia de investimento da Apple de mais de 500 bilhões de dólares no mercado interno (ou seja, dentro dos próprios EUA) nos próximos 4 anos, aproximando as big tech americanas do presidente Trump além de mantê-los mais distante do mercado chinês. A Apple pretende fazer isso ao realizar a fabricação dos produtos Apple em solo americano, tendo em vista a relutância do governo chinês em pagar tributos que o presidente Trump criou. \n",
    "\n",
    "Sendo assim, a Apple planeja construir uma fábrica própria em Houston além de expandir seus serviços já existentes em Cupertino. Espera-se que sejam gerados mais de 20.000 empregos, voltados majoritariamente para a área de engenharia e pesquisa (Yahoo Finance).\n",
    "\n",
    "A Apple anunciou um trimestre recorde, com receita de USD 124,3 bilhões (708 bilhões de reais, +4% YoY) e lucro por ação de 2,40 (+10% YoY), com um lucro líquido recorde de USD 36,3 bilhões (206 bilhões de reais) no período. O CEO Tim Cook destacou o sucesso da linha de produtos e o avanço da Apple Intelligence, que terá suporte expandido em abril. O CFO Kevan Parekh celebrou o crescimento da base de dispositivos ativos e o retorno de $30 bilhões aos acionistas. A empresa declarou um dividendo de USD 0,25 por ação, a ser pago em 13 de fevereiro de 2025 (Apple).\n",
    "\n"
   ]
  }
 ],
 "metadata": {
  "language_info": {
   "name": "python"
  }
 },
 "nbformat": 4,
 "nbformat_minor": 2
}
